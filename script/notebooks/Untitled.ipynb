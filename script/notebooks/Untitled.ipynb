{
 "cells": [
  {
   "cell_type": "code",
   "execution_count": 5,
   "id": "a0d9a030-5379-41c6-b952-1ee8fa2194c6",
   "metadata": {},
   "outputs": [
    {
     "name": "stdout",
     "output_type": "stream",
     "text": [
      "R²: 0.8384\n",
      "RMSE: 0.15\n",
      "✅ Modello salvato come xgb_model.pkl\n"
     ]
    }
   ],
   "source": [
    "\n",
    "import pandas as pd\n",
    "from sklearn.model_selection import train_test_split\n",
    "from xgboost import XGBRegressor\n",
    "from sklearn.metrics import r2_score, mean_squared_error\n",
    "import joblib\n",
    "\n",
    "# Carica il dataset (assicurati che contenga SalePrice e feature pronte)\n",
    "df = pd.read_csv(\"feature_engineered_train.csv\")\n",
    "\n",
    "# Separazione feature e target\n",
    "X = df.drop(columns=[\"SalePrice\"])\n",
    "y = df[\"SalePrice\"]\n",
    "\n",
    "# Split dei dati\n",
    "X_train, X_test, y_train, y_test = train_test_split(X, y, test_size=0.2, random_state=42)\n",
    "\n",
    "# Inizializza e addestra il modello\n",
    "model = XGBRegressor(n_estimators=100, learning_rate=0.1, max_depth=5, random_state=42)\n",
    "model.fit(X_train, y_train)\n",
    "\n",
    "# Valutazione\n",
    "y_pred = model.predict(X_test)\n",
    "print(\"R²:\", round(r2_score(y_test, y_pred), 4))\n",
    "print(\"RMSE:\", round(mean_squared_error(y_test, y_pred, squared=False), 2))\n",
    "\n",
    "# Salva il modello per l'uso nella dashboard\n",
    "joblib.dump(model, \"xgb_model.pkl\")\n",
    "print(\"✅ Modello salvato come xgb_model.pkl\")\n"
   ]
  },
  {
   "cell_type": "code",
   "execution_count": null,
   "id": "4b30cd65-e0bf-4d23-b068-f9a88438c8fb",
   "metadata": {},
   "outputs": [],
   "source": []
  }
 ],
 "metadata": {
  "kernelspec": {
   "display_name": "Python 3 (ipykernel)",
   "language": "python",
   "name": "python3"
  },
  "language_info": {
   "codemirror_mode": {
    "name": "ipython",
    "version": 3
   },
   "file_extension": ".py",
   "mimetype": "text/x-python",
   "name": "python",
   "nbconvert_exporter": "python",
   "pygments_lexer": "ipython3",
   "version": "3.11.6"
  }
 },
 "nbformat": 4,
 "nbformat_minor": 5
}
