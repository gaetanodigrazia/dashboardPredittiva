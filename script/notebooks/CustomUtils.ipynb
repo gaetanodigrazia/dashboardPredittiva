{
 "cells": [
  {
   "cell_type": "code",
   "execution_count": 1,
   "id": "c373d99b-e775-4ed7-b39c-09dc41879378",
   "metadata": {},
   "outputs": [],
   "source": [
    "# Python function that takes a Pandas DataFrame as input and returns another DataFrame \n",
    "# that shows the percentage of missing values in each column of the input DataFrame.\n",
    "def getDataFrameWithNullValuesPercentage(df):\n",
    "    percent_missing = df.isnull().sum() * 100 / len(df)\n",
    "    missing_value_df = pd.DataFrame({'column_name': df.columns,\n",
    "                                     'percent_missing': percent_missing}).sort_values(by='percent_missing', ascending=False)\n",
    "    return missing_value_df"
   ]
  },
  {
   "cell_type": "code",
   "execution_count": null,
   "id": "cff1a471-a9bb-4eb4-af2a-90d966b1441f",
   "metadata": {},
   "outputs": [],
   "source": [
    "def getDataFrameWithNotNullValuesPercentage(df):\n",
    "    missing_columns = [col for col in df.columns if not df[col].isnull().any()]\n",
    "    reduced_df = df.drop(axis=1, columns=missing_columns)\n",
    "    return reduced_df"
   ]
  },
  {
   "cell_type": "code",
   "execution_count": 2,
   "id": "4bda8d53-bfbb-48cf-b5e6-05e491d9e57d",
   "metadata": {
    "tags": []
   },
   "outputs": [],
   "source": [
    "# Python function that takes a Pandas DataFrame, a column name, and a threshold value \n",
    "# as input, and returns a list of column names in the DataFrame that have a higher percentage \n",
    "# of missing values than the threshold value for the specified column.\n",
    "def getSeriesFromDataFrameThreesholdedByNullValues(df, column_name, threshoold):\n",
    "    series = missing_value_df[column_name]\n",
    "    selected_series = series[series > threshoold]\n",
    "    column_with_higher_null_values = selected_series.index\n",
    "    return column_with_higher_null_values"
   ]
  },
  {
   "cell_type": "code",
   "execution_count": null,
   "id": "56e62bc0-f68b-46fe-82bc-033cb8e681c0",
   "metadata": {},
   "outputs": [],
   "source": []
  },
  {
   "cell_type": "code",
   "execution_count": 3,
   "id": "5c73caf0-0ce6-44a9-8ede-edc05f5e5a9d",
   "metadata": {},
   "outputs": [],
   "source": [
    "# Python function that performs K-Nearest Neighbors (KNN) imputation on a Pandas DataFrame \n",
    "# to fill in missing values in a specified target column.\n",
    "\n",
    "from sklearn.neighbors import KNeighborsRegressor\n",
    "\n",
    "def knn_impute(df, na_target):\n",
    "    df = df.copy()\n",
    "    \n",
    "    numeric_df = df.select_dtypes(np.number)\n",
    "    non_na_columns = numeric_df.loc[: ,numeric_df.isna().sum() == 0].columns\n",
    "    \n",
    "    y_train = numeric_df.loc[numeric_df[na_target].isna() == False, na_target]\n",
    "    X_train = numeric_df.loc[numeric_df[na_target].isna() == False, non_na_columns]\n",
    "    X_test = numeric_df.loc[numeric_df[na_target].isna() == True, non_na_columns]\n",
    "    \n",
    "    knn = KNeighborsRegressor()\n",
    "    knn.fit(X_train, y_train)\n",
    "    \n",
    "    y_pred = knn.predict(X_test)\n",
    "    \n",
    "    df.loc[df[na_target].isna() == True, na_target] = y_pred\n",
    "    \n",
    "    return df"
   ]
  },
  {
   "cell_type": "code",
   "execution_count": 7,
   "id": "c1dcd34d-8d89-4f41-82f7-bffdb557be86",
   "metadata": {
    "tags": []
   },
   "outputs": [],
   "source": [
    "\n",
    "# Python function that performs mode imputation on a Pandas DataFrame to fill in missing values \n",
    "# in a specified variable column, and then creates a countplot to visualize the distribution of \n",
    "# values in that column.\n",
    "def mode_impute_and_plot(df, variable):\n",
    "    print('# of missing values: ' + str(df[variable].isna().sum()))\n",
    "    plt.figure(figsize=(8,4))\n",
    "    ax = sns.countplot(df[variable])\n",
    "    ax.set_xticklabels(ax.get_xticklabels(), rotation=40, ha=\"right\")\n",
    "    plt.tight_layout()\n",
    "    plt.show()\n",
    "    \n",
    "    df[variable].replace(np.nan, all_data[variable].mode()[0], regex=True, inplace=True)"
   ]
  },
  {
   "cell_type": "code",
   "execution_count": null,
   "id": "e446d357-7fa4-4d74-8b8f-f398bcd35bdf",
   "metadata": {},
   "outputs": [],
   "source": []
  }
 ],
 "metadata": {
  "kernelspec": {
   "display_name": "Python 3 (ipykernel)",
   "language": "python",
   "name": "python3"
  },
  "language_info": {
   "codemirror_mode": {
    "name": "ipython",
    "version": 3
   },
   "file_extension": ".py",
   "mimetype": "text/x-python",
   "name": "python",
   "nbconvert_exporter": "python",
   "pygments_lexer": "ipython3",
   "version": "3.10.10"
  }
 },
 "nbformat": 4,
 "nbformat_minor": 5
}
